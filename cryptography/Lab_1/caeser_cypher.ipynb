{
 "cells": [
  {
   "cell_type": "code",
   "execution_count": 27,
   "metadata": {},
   "outputs": [],
   "source": [
    "def caesar_cipher(text:str, shift: int) -> str:\n",
    "    result = ''\n",
    "    for char in text:\n",
    "        if char.isalpha():\n",
    "            if char.isupper():\n",
    "                result += chr((ord(char) - 65 + shift) % 26 + 65)\n",
    "            else:\n",
    "                result += chr((ord(char) - 97 + shift) % 26 + 97)\n",
    "        else:\n",
    "            result += str((int(char) + shift) % 10)\n",
    "    \n",
    "    return result"
   ]
  },
  {
   "cell_type": "code",
   "execution_count": 25,
   "metadata": {},
   "outputs": [
    {
     "name": "stdout",
     "output_type": "stream",
     "text": [
      "Encryped text : Lip34\n",
      "\n",
      "decrypted text : Hel90\n",
      "\n"
     ]
    }
   ],
   "source": [
    "plaintext = input(\"Enter plain text: \")\n",
    "shift = int(input(\"Enter Shift: \"))\n",
    "encrpyted_text = caesar_cipher(plaintext,shift)\n",
    "print(f\"Encryped text : {encrpyted_text}\\n\")\n",
    "\n",
    "decrypted_text = caesar_cipher(encrpyted_text,-shift)\n",
    "print(f\"decrypted text : {decrypted_text}\\n\")"
   ]
  }
 ],
 "metadata": {
  "kernelspec": {
   "display_name": ".venv",
   "language": "python",
   "name": "python3"
  },
  "language_info": {
   "codemirror_mode": {
    "name": "ipython",
    "version": 3
   },
   "file_extension": ".py",
   "mimetype": "text/x-python",
   "name": "python",
   "nbconvert_exporter": "python",
   "pygments_lexer": "ipython3",
   "version": "3.10.4"
  }
 },
 "nbformat": 4,
 "nbformat_minor": 2
}
