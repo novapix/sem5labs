{
  "nbformat": 4,
  "nbformat_minor": 0,
  "metadata": {
    "colab": {
      "provenance": []
    },
    "kernelspec": {
      "name": "python3",
      "display_name": "Python 3"
    },
    "language_info": {
      "name": "python"
    }
  },
  "cells": [
    {
      "cell_type": "code",
      "execution_count": null,
      "metadata": {
        "id": "ciU92Rh6VRRj"
      },
      "outputs": [],
      "source": [
        "def generate_playfair_matrix(key):\n",
        "    # Create a matrix filled wirh zeros\n",
        "    matrix = [['' for _ in range(5)] for _ in range(5)]\n",
        "    # Convert the key into upper case and remove dupes\n",
        "    key = ''.join(sorted(set(key.upper()),key=key.upper().index))\n",
        "    alphabet = \"ABCDEFGHIJKLMNOPQRSTUVWXYZ\"\n",
        "    key_index = 0\n",
        "    for i in range(5):\n",
        "        for j in range(5):\n",
        "            if key_index < len(key):\n",
        "                matrix[i][j] = key[key_index]\n",
        "                key_index += 1\n",
        "            else:\n",
        "                while alphabet:\n",
        "                    letter = alphabet[0]\n",
        "                    alphabet = alphabet[1:]\n",
        "                    if letter not in key:\n",
        "                        matrix[i][j] = letter\n",
        "                        break\n",
        "\n",
        "    return matrix\n"
      ]
    },
    {
      "cell_type": "code",
      "source": [
        "def prepare_text(text):\n",
        "    # Remove spaces and non alphabets characters, convert to uppercase\n",
        "    text = ''.join(filter(str.isalpha, text)).upper()\n",
        "    # Replace 'J' with 'I'\n",
        "    text = text.replace('J', 'I')\n",
        "    # Replace Double Letters With X\n",
        "    i =0\n",
        "    while i < len(text)-1:\n",
        "        if text[i] == text[i+1]:\n",
        "            text = text[:i+1] + 'X' + text[i+1:]\n",
        "        i += 2\n",
        "    if len(text) % 2 != 0:\n",
        "        text += 'X'\n",
        "    return text\n"
      ],
      "metadata": {
        "id": "T2zrmx3AYkUp"
      },
      "execution_count": null,
      "outputs": []
    },
    {
      "cell_type": "code",
      "source": [
        "def find_position(matrix,char):\n",
        "    for i in range(5):\n",
        "        for j in range(5):\n",
        "            if matrix[i][j] == char:\n",
        "                return (i,j)\n",
        "    return None"
      ],
      "metadata": {
        "id": "cGkbw-QgaXU2"
      },
      "execution_count": null,
      "outputs": []
    },
    {
      "cell_type": "code",
      "source": [
        "def encrypt(text,key):\n",
        "    matrix = generate_playfair_matrix(key)\n",
        "    txt = prepare_text(text)\n",
        "    ciphertext = ''\n",
        "    # Encrypt the pair of letters\n",
        "    for i in range(0,len(txt),2):\n",
        "        c1 = txt[i]\n",
        "        c2 = txt[i+1]\n",
        "        row1, col1 = find_position(matrix,c1)\n",
        "        row2, col2 = find_position(matrix,c2)\n",
        "        if row1 == row2:\n",
        "            ciphertext += matrix[row1][(col1+1)%5]\n",
        "            ciphertext += matrix[row2][(col2+1)%5]\n",
        "        elif col1 == col2:\n",
        "            ciphertext += matrix[(row1+1)%5][col1]\n",
        "            ciphertext += matrix[(row2+1)%5][col2]\n",
        "        else:\n",
        "            ciphertext += matrix[row1][col2] + matrix[row2][col1]\n",
        "    return ciphertext\n"
      ],
      "metadata": {
        "id": "JbMu8_jhZ3-x"
      },
      "execution_count": null,
      "outputs": []
    },
    {
      "cell_type": "code",
      "source": [
        "def decrypt(ciphertext,key):\n",
        "    matrix = generate_playfair_matrix(key)\n",
        "    plaintext = ''\n",
        "    for i in range(0,len(ciphertext),2):\n",
        "        c1 = ciphertext[i]\n",
        "        c2 = ciphertext[i+1]\n",
        "        row1, col1 = find_position(matrix,c1)\n",
        "        row2, col2 = find_position(matrix,c2)\n",
        "        if row1 == row2:\n",
        "            plaintext += matrix[row1][(col1-1)%5]\n",
        "            plaintext += matrix[row2][(col2-1)%5]\n",
        "        elif col1 == col2:\n",
        "            plaintext += matrix[(row1-1)%5][col1]\n",
        "            plaintext += matrix[(row2-1)%5][col2]\n",
        "        else:\n",
        "            plaintext += matrix[row1][col2] + matrix[row2][col1]\n",
        "    return plaintext"
      ],
      "metadata": {
        "id": "xBdOLnR1cZf1"
      },
      "execution_count": null,
      "outputs": []
    },
    {
      "cell_type": "code",
      "source": [
        "input_text = input(\"Enter Text to be Encryped: \")\n",
        "key = input(\"Enter Key: \")\n",
        "encrypted_text = encrypt(input_text,key)\n",
        "print(f\"Encyprpted Text : {encrypted_text}\")\n",
        "decrypted_text = decrypt(encrypted_text,key)\n",
        "print(f\"Decrypted Text : {decrypted_text}\")\n"
      ],
      "metadata": {
        "colab": {
          "base_uri": "https://localhost:8080/"
        },
        "id": "knB9A3yUb6Th",
        "outputId": "e25c3c34-4e2d-4c2a-8070-0984e7edc87f"
      },
      "execution_count": null,
      "outputs": [
        {
          "output_type": "stream",
          "name": "stdout",
          "text": [
            "Enter Text to be Encryped: HIDETHEGOLDINTHETREE\n",
            "Enter Key: PLAYFAIREXAMPLE\n",
            "Encyprpted Text : BMNDWCXDKYBEKUDMLCXMXM\n",
            "Decrypted Text : HIDETHEGOLDINTHETREXEX\n"
          ]
        }
      ]
    }
  ]
}