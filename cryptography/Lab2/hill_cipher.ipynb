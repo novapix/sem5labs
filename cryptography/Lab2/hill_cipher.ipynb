{
    "cells": [
        {
            "cell_type": "code",
            "execution_count": null,
            "metadata": {},
            "outputs": [],
            "source": [
                "%pip install numpy"
            ]
        },
        {
            "cell_type": "code",
            "execution_count": 6,
            "metadata": {
                "id": "qwiNvmayTaAu"
            },
            "outputs": [],
            "source": [
                "import numpy as np"
            ]
        },
        {
            "cell_type": "code",
            "execution_count": 7,
            "metadata": {
                "id": "rvGB4uefToOg"
            },
            "outputs": [],
            "source": [
                "def matrix_mod_inv(matrix,modulus):\n",
                "    det = int(np.round(np.linalg.det(matrix)))\n",
                "    det_inv = pow(det,-1,modulus)\n",
                "    matrix_modulus_inv = (det_inv * np.round(det * np.linalg.inv(matrix)) % modulus)\n",
                "    return matrix_modulus_inv"
            ]
        },
        {
            "cell_type": "code",
            "execution_count": 8,
            "metadata": {
                "id": "a84wHgxBVPfG"
            },
            "outputs": [],
            "source": [
                "def hill_cipher_encrypt(plaintext,key):\n",
                "    n = len(key)\n",
                "    plaintext = [ord(char) -ord('A') for char in plaintext.upper()]\n",
                "    if len(plaintext) % n != 0:\n",
                "        plaintext.extend([15] * (n-len(plaintext)%n))\n",
                "    plaintext_matrix = np.array(plaintext).reshape(-1,n)\n",
                "    ciphertext_matrix = np.dot(plaintext_matrix,key) % 26\n",
                "    ciphertext = ''.join([chr(char + ord('A')) for row in ciphertext_matrix for char in row])\n",
                "    return ciphertext"
            ]
        },
        {
            "cell_type": "code",
            "execution_count": null,
            "metadata": {
                "id": "Xf7Ox7__XptA"
            },
            "outputs": [],
            "source": [
                "def hill_cipher_decrypt(ciphertext,key):\n",
                "    n = len(key)\n",
                "    key_inv = matrix_mod_inv(key,26)\n",
                "    ciphertext = [ord(char) - ord('A') for char in ciphertext.upper() if char.isalpha()]\n",
                "    ciphertext_matrix = np.array(ciphertext).reshape(-1,n)\n",
                "    plaintext_matrix = np.round(np.dot(ciphertext_matrix, key_inv)).astype(int) % 26\n",
                "    plaintext = ''.join([chr(char + ord('A')) for row in plaintext_matrix for char in row])\n",
                "    return plaintext"
            ]
        },
        {
            "cell_type": "code",
            "execution_count": null,
            "metadata": {
                "id": "v9MJirenhkhj"
            },
            "outputs": [],
            "source": [
                "def input_key_matrix():\n",
                "    size = int(input(\"Enter the size of the key square matrix (e.g., 3 for 3x3): \"))\n",
                "\n",
                "    key = []\n",
                "    print(f\"Enter the {size}x{size} key matrix values row by row (total of {size * size} numbers):\")\n",
                "\n",
                "    for i in range(size):\n",
                "        while True:\n",
                "            row_input = input(f\"Row {i + 1} (enter {size} numbers separated by spaces): \").strip()\n",
                "            try:\n",
                "                row = list(map(int, row_input.split()))\n",
                "\n",
                "                if len(row) != size:\n",
                "                    print(f\"Error: Expected {size} numbers, but got {len(row)}. Try again.\")\n",
                "                    continue\n",
                "\n",
                "                key.append(row)\n",
                "                break\n",
                "            except ValueError:\n",
                "                print(\"Invalid input. Please enter integers separated by spaces.\")\n",
                "\n",
                "    return np.array(key)"
            ]
        },
        {
            "cell_type": "code",
            "execution_count": null,
            "metadata": {
                "colab": {
                    "base_uri": "https://localhost:8080/"
                },
                "id": "UcQ-TNxDaZ2G",
                "outputId": "d9f53691-4b30-498d-ee89-ace8a0bbba0a"
            },
            "outputs": [],
            "source": [
                "# key = np.array([[17,17,5],[21,18,21],[2,2,19]])\n",
                "# plaintext = \"paymoremoney\"\n",
                "key = input_key_matrix()\n",
                "det = np.linalg.det(key)\n",
                "if det == 0:\n",
                "    print(\"Matrix is not invertible\")\n",
                "    exit(1)\n",
                "\n",
                "plaintext = input(\"Enter Text to be encryped: \")\n",
                "\n",
                "cipher_txt = hill_cipher_encrypt(plaintext,key)\n",
                "print(f\"Encrypted Text: {cipher_txt}\")\n",
                "\n",
                "plain_txt = hill_cipher_decrypt(cipher_txt,key)\n",
                "print(f\"Decrypted Text: {plain_txt}\")"
            ]
        }
    ],
    "metadata": {
        "colab": {
            "provenance": []
        },
        "kernelspec": {
            "display_name": ".venv",
            "language": "python",
            "name": "python3"
        },
        "language_info": {
            "name": "python",
            "version": "3.10.4"
        }
    },
    "nbformat": 4,
    "nbformat_minor": 0
}
